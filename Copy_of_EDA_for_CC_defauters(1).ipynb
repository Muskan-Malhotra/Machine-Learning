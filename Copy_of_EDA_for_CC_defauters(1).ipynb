{
  "nbformat": 4,
  "nbformat_minor": 0,
  "metadata": {
    "colab": {
      "name": "Copy of EDA_for_CC_defauters(1).ipynb",
      "provenance": [],
      "include_colab_link": true
    },
    "kernelspec": {
      "name": "python3",
      "display_name": "Python 3"
    },
    "language_info": {
      "name": "python"
    }
  },
  "cells": [
    {
      "cell_type": "markdown",
      "metadata": {
        "id": "view-in-github",
        "colab_type": "text"
      },
      "source": [
        "<a href=\"https://colab.research.google.com/github/Muskan-Malhotra/Machine-Learning/blob/main/Copy_of_EDA_for_CC_defauters(1).ipynb\" target=\"_parent\"><img src=\"https://colab.research.google.com/assets/colab-badge.svg\" alt=\"Open In Colab\"/></a>"
      ]
    },
    {
      "cell_type": "markdown",
      "metadata": {
        "id": "qHoxzPKjOrWm"
      },
      "source": [
        "# **Introduction**\n",
        "\n",
        "df One has seen an increase in the number of customers who have defaulted on loans they have secured from various partners, and df One, as their df scoring service, could risk losing business if the problem is not solved right away. In this df_payification task  “df_pay” is the dependent variable. \n",
        "\n",
        "For this task below is the problem statement and investigative question that needs to be addressed:\n",
        "\n",
        "**Problem:**\n",
        "1.\tIncrease in customer default rates - This is bad for df One since we approve the customers for loans in the first place.\n",
        "2.\tRevenue and customer loss for clients and, eventually, loss of clients for dfOne\n",
        "\n",
        "**Investigative Question:**\n",
        "1.\tHow do you ensure that customers can/will pay their loans? Can we do this?\n",
        "2.\tCan we approve customers with high certainty?\n"
      ]
    },
    {
      "cell_type": "code",
      "metadata": {
        "id": "Bm_YwDsnMFVa"
      },
      "source": [
        "# Importing Libraraies\n",
        "\n",
        "import pandas as pd\n",
        "import numpy as np\n",
        "import seaborn as sns\n",
        "import matplotlib\n",
        "import matplotlib.pyplot as plt\n",
        "from matplotlib import pyplot\n",
        "%matplotlib inline\n",
        "import warnings\n",
        "warnings.filterwarnings('ignore')"
      ],
      "execution_count": null,
      "outputs": []
    },
    {
      "cell_type": "code",
      "metadata": {
        "colab": {
          "base_uri": "https://localhost:8080/"
        },
        "id": "rbwmN7zQMAgd",
        "outputId": "04c4ea2c-df33-494d-9d94-c2a779a658a1"
      },
      "source": [
        "#mounting google drive to colab\n",
        "from google.colab import drive\n",
        "drive.mount('/content/drive')"
      ],
      "execution_count": null,
      "outputs": [
        {
          "output_type": "stream",
          "name": "stdout",
          "text": [
            "Mounted at /content/drive\n"
          ]
        }
      ]
    },
    {
      "cell_type": "code",
      "metadata": {
        "id": "5Cp8yQFHMIDj"
      },
      "source": [
        "#importing File\n",
        "df = pd.read_excel('/content/drive/MyDrive/Projects/default_of_credit_card_clients_0.xlsx') "
      ],
      "execution_count": null,
      "outputs": []
    },
    {
      "cell_type": "markdown",
      "metadata": {
        "id": "CD3Zx0DiO-Za"
      },
      "source": [
        "**Understanding Data**\n",
        "\n",
        "Case of customers default payments in Taiwan. Data collected from April to September, 2005)\n",
        "\n",
        "**Variables in Data (Total 23 variables)**\n",
        "1. Binary Response variable, default payment (Yes = 1, No = 0)\n",
        "2. LIMIT_BAL: Amount of the given df (NT dollarGender (1 = male; 2 = female).\n",
        "3. Education (1 = graduate school; 2 = university; 3 = high school; 0, 4, 5, 6 = others).\n",
        "4. Marital status (1 = married; 2 = single; 3 = divorce; 0=others).\n",
        "5. Age (year).\n",
        "\n",
        "\n",
        "Imbalance in the df_pay – Dataset   shows that 6636 out of 30000 customers will default next month. \n",
        "Dataset is highly imbalanced.\n"
      ]
    },
    {
      "cell_type": "code",
      "metadata": {
        "colab": {
          "base_uri": "https://localhost:8080/",
          "height": 205
        },
        "id": "wqdqZEnONCmc",
        "outputId": "44f712e1-e5c2-4801-9ce9-494122673236"
      },
      "source": [
        "# Checking data\n",
        "df.head()"
      ],
      "execution_count": null,
      "outputs": [
        {
          "output_type": "execute_result",
          "data": {
            "text/html": [
              "<div>\n",
              "<style scoped>\n",
              "    .dataframe tbody tr th:only-of-type {\n",
              "        vertical-align: middle;\n",
              "    }\n",
              "\n",
              "    .dataframe tbody tr th {\n",
              "        vertical-align: top;\n",
              "    }\n",
              "\n",
              "    .dataframe thead th {\n",
              "        text-align: right;\n",
              "    }\n",
              "</style>\n",
              "<table border=\"1\" class=\"dataframe\">\n",
              "  <thead>\n",
              "    <tr style=\"text-align: right;\">\n",
              "      <th></th>\n",
              "      <th>ID</th>\n",
              "      <th>LIMIT_BAL</th>\n",
              "      <th>SEX</th>\n",
              "      <th>EDUCATION</th>\n",
              "      <th>MARRIAGE</th>\n",
              "      <th>AGE</th>\n",
              "      <th>df_one</th>\n",
              "    </tr>\n",
              "  </thead>\n",
              "  <tbody>\n",
              "    <tr>\n",
              "      <th>0</th>\n",
              "      <td>1</td>\n",
              "      <td>20000</td>\n",
              "      <td>2</td>\n",
              "      <td>2</td>\n",
              "      <td>1</td>\n",
              "      <td>24</td>\n",
              "      <td>1</td>\n",
              "    </tr>\n",
              "    <tr>\n",
              "      <th>1</th>\n",
              "      <td>2</td>\n",
              "      <td>120000</td>\n",
              "      <td>2</td>\n",
              "      <td>2</td>\n",
              "      <td>2</td>\n",
              "      <td>26</td>\n",
              "      <td>1</td>\n",
              "    </tr>\n",
              "    <tr>\n",
              "      <th>2</th>\n",
              "      <td>3</td>\n",
              "      <td>90000</td>\n",
              "      <td>2</td>\n",
              "      <td>2</td>\n",
              "      <td>2</td>\n",
              "      <td>34</td>\n",
              "      <td>0</td>\n",
              "    </tr>\n",
              "    <tr>\n",
              "      <th>3</th>\n",
              "      <td>4</td>\n",
              "      <td>50000</td>\n",
              "      <td>2</td>\n",
              "      <td>2</td>\n",
              "      <td>1</td>\n",
              "      <td>37</td>\n",
              "      <td>0</td>\n",
              "    </tr>\n",
              "    <tr>\n",
              "      <th>4</th>\n",
              "      <td>5</td>\n",
              "      <td>50000</td>\n",
              "      <td>1</td>\n",
              "      <td>2</td>\n",
              "      <td>1</td>\n",
              "      <td>57</td>\n",
              "      <td>0</td>\n",
              "    </tr>\n",
              "  </tbody>\n",
              "</table>\n",
              "</div>"
            ],
            "text/plain": [
              "   ID  LIMIT_BAL  SEX  EDUCATION  MARRIAGE  AGE  df_one\n",
              "0   1      20000    2          2         1   24       1\n",
              "1   2     120000    2          2         2   26       1\n",
              "2   3      90000    2          2         2   34       0\n",
              "3   4      50000    2          2         1   37       0\n",
              "4   5      50000    1          2         1   57       0"
            ]
          },
          "metadata": {},
          "execution_count": 31
        }
      ]
    },
    {
      "cell_type": "code",
      "metadata": {
        "colab": {
          "base_uri": "https://localhost:8080/"
        },
        "id": "aOdYl2lPNGtD",
        "outputId": "563b4c32-4dbc-415d-f712-8cbd0d6ce1ef"
      },
      "source": [
        "# Column names\n",
        "df.columns"
      ],
      "execution_count": null,
      "outputs": [
        {
          "output_type": "execute_result",
          "data": {
            "text/plain": [
              "Index(['ID', 'LIMIT_BAL', 'SEX', 'EDUCATION', 'MARRIAGE', 'AGE', 'df_one'], dtype='object')"
            ]
          },
          "metadata": {},
          "execution_count": 32
        }
      ]
    },
    {
      "cell_type": "code",
      "metadata": {
        "colab": {
          "base_uri": "https://localhost:8080/",
          "height": 299
        },
        "id": "CPmq1XqBNJrK",
        "outputId": "c23e6b36-7983-44f9-c2e2-cb4a3813f63b"
      },
      "source": [
        "# Understand the makeup of the data\n",
        "df.describe()"
      ],
      "execution_count": null,
      "outputs": [
        {
          "output_type": "execute_result",
          "data": {
            "text/html": [
              "<div>\n",
              "<style scoped>\n",
              "    .dataframe tbody tr th:only-of-type {\n",
              "        vertical-align: middle;\n",
              "    }\n",
              "\n",
              "    .dataframe tbody tr th {\n",
              "        vertical-align: top;\n",
              "    }\n",
              "\n",
              "    .dataframe thead th {\n",
              "        text-align: right;\n",
              "    }\n",
              "</style>\n",
              "<table border=\"1\" class=\"dataframe\">\n",
              "  <thead>\n",
              "    <tr style=\"text-align: right;\">\n",
              "      <th></th>\n",
              "      <th>ID</th>\n",
              "      <th>LIMIT_BAL</th>\n",
              "      <th>SEX</th>\n",
              "      <th>EDUCATION</th>\n",
              "      <th>MARRIAGE</th>\n",
              "      <th>AGE</th>\n",
              "      <th>df_one</th>\n",
              "    </tr>\n",
              "  </thead>\n",
              "  <tbody>\n",
              "    <tr>\n",
              "      <th>count</th>\n",
              "      <td>30000.000000</td>\n",
              "      <td>30000.000000</td>\n",
              "      <td>30000.000000</td>\n",
              "      <td>30000.000000</td>\n",
              "      <td>30000.000000</td>\n",
              "      <td>30000.000000</td>\n",
              "      <td>30000.000000</td>\n",
              "    </tr>\n",
              "    <tr>\n",
              "      <th>mean</th>\n",
              "      <td>15000.500000</td>\n",
              "      <td>167484.322667</td>\n",
              "      <td>1.603733</td>\n",
              "      <td>1.853133</td>\n",
              "      <td>1.551867</td>\n",
              "      <td>35.485500</td>\n",
              "      <td>0.221200</td>\n",
              "    </tr>\n",
              "    <tr>\n",
              "      <th>std</th>\n",
              "      <td>8660.398374</td>\n",
              "      <td>129747.661567</td>\n",
              "      <td>0.489129</td>\n",
              "      <td>0.790349</td>\n",
              "      <td>0.521970</td>\n",
              "      <td>9.217904</td>\n",
              "      <td>0.415062</td>\n",
              "    </tr>\n",
              "    <tr>\n",
              "      <th>min</th>\n",
              "      <td>1.000000</td>\n",
              "      <td>10000.000000</td>\n",
              "      <td>1.000000</td>\n",
              "      <td>0.000000</td>\n",
              "      <td>0.000000</td>\n",
              "      <td>21.000000</td>\n",
              "      <td>0.000000</td>\n",
              "    </tr>\n",
              "    <tr>\n",
              "      <th>25%</th>\n",
              "      <td>7500.750000</td>\n",
              "      <td>50000.000000</td>\n",
              "      <td>1.000000</td>\n",
              "      <td>1.000000</td>\n",
              "      <td>1.000000</td>\n",
              "      <td>28.000000</td>\n",
              "      <td>0.000000</td>\n",
              "    </tr>\n",
              "    <tr>\n",
              "      <th>50%</th>\n",
              "      <td>15000.500000</td>\n",
              "      <td>140000.000000</td>\n",
              "      <td>2.000000</td>\n",
              "      <td>2.000000</td>\n",
              "      <td>2.000000</td>\n",
              "      <td>34.000000</td>\n",
              "      <td>0.000000</td>\n",
              "    </tr>\n",
              "    <tr>\n",
              "      <th>75%</th>\n",
              "      <td>22500.250000</td>\n",
              "      <td>240000.000000</td>\n",
              "      <td>2.000000</td>\n",
              "      <td>2.000000</td>\n",
              "      <td>2.000000</td>\n",
              "      <td>41.000000</td>\n",
              "      <td>0.000000</td>\n",
              "    </tr>\n",
              "    <tr>\n",
              "      <th>max</th>\n",
              "      <td>30000.000000</td>\n",
              "      <td>1000000.000000</td>\n",
              "      <td>2.000000</td>\n",
              "      <td>6.000000</td>\n",
              "      <td>3.000000</td>\n",
              "      <td>79.000000</td>\n",
              "      <td>1.000000</td>\n",
              "    </tr>\n",
              "  </tbody>\n",
              "</table>\n",
              "</div>"
            ],
            "text/plain": [
              "                 ID       LIMIT_BAL  ...           AGE        df_one\n",
              "count  30000.000000    30000.000000  ...  30000.000000  30000.000000\n",
              "mean   15000.500000   167484.322667  ...     35.485500      0.221200\n",
              "std     8660.398374   129747.661567  ...      9.217904      0.415062\n",
              "min        1.000000    10000.000000  ...     21.000000      0.000000\n",
              "25%     7500.750000    50000.000000  ...     28.000000      0.000000\n",
              "50%    15000.500000   140000.000000  ...     34.000000      0.000000\n",
              "75%    22500.250000   240000.000000  ...     41.000000      0.000000\n",
              "max    30000.000000  1000000.000000  ...     79.000000      1.000000\n",
              "\n",
              "[8 rows x 7 columns]"
            ]
          },
          "metadata": {},
          "execution_count": 33
        }
      ]
    },
    {
      "cell_type": "code",
      "metadata": {
        "colab": {
          "base_uri": "https://localhost:8080/"
        },
        "id": "9JebdEHpNMEc",
        "outputId": "7c1edb44-c6cf-4d05-dc48-d55ff37a6a20"
      },
      "source": [
        "# Checking the data types of each variable\n",
        "df.info()"
      ],
      "execution_count": null,
      "outputs": [
        {
          "output_type": "stream",
          "name": "stdout",
          "text": [
            "<class 'pandas.core.frame.DataFrame'>\n",
            "RangeIndex: 30000 entries, 0 to 29999\n",
            "Data columns (total 7 columns):\n",
            " #   Column                      Non-Null Count  Dtype\n",
            "---  ------                      --------------  -----\n",
            " 0   ID                          30000 non-null  int64\n",
            " 1   LIMIT_BAL                   30000 non-null  int64\n",
            " 2   SEX                         30000 non-null  int64\n",
            " 3   EDUCATION                   30000 non-null  int64\n",
            " 4   MARRIAGE                    30000 non-null  int64\n",
            " 5   AGE                         30000 non-null  int64\n",
            " 6   default payment next month  30000 non-null  int64\n",
            "dtypes: int64(7)\n",
            "memory usage: 1.6 MB\n"
          ]
        }
      ]
    },
    {
      "cell_type": "markdown",
      "metadata": {
        "id": "sFD3qI1FPd35"
      },
      "source": [
        "#Pre-Processing\n",
        "### 1) Checking for missing data"
      ]
    },
    {
      "cell_type": "code",
      "metadata": {
        "colab": {
          "base_uri": "https://localhost:8080/"
        },
        "id": "jG2s6xyvNXUM",
        "outputId": "864ea3fd-0277-4b29-ac00-5d6aec89acd3"
      },
      "source": [
        "df.isnull().sum()"
      ],
      "execution_count": null,
      "outputs": [
        {
          "output_type": "execute_result",
          "data": {
            "text/plain": [
              "ID           0\n",
              "LIMIT_BAL    0\n",
              "SEX          0\n",
              "EDUCATION    0\n",
              "MARRIAGE     0\n",
              "AGE          0\n",
              "df_one       0\n",
              "dtype: int64"
            ]
          },
          "metadata": {},
          "execution_count": 37
        }
      ]
    },
    {
      "cell_type": "markdown",
      "metadata": {
        "id": "0mb-hI2sM88K"
      },
      "source": [
        "#####There are no missing values in df credit_card dataset"
      ]
    },
    {
      "cell_type": "code",
      "metadata": {
        "colab": {
          "base_uri": "https://localhost:8080/"
        },
        "id": "SQhoDH1fNwOz",
        "outputId": "0bda8e0d-28d8-414f-866a-3e2c75b5e910"
      },
      "source": [
        "# Dropping ID column\n",
        "df.drop('ID', axis = 1, inplace =True) \n",
        "df.columns # Confirming removal of ID column"
      ],
      "execution_count": null,
      "outputs": [
        {
          "output_type": "execute_result",
          "data": {
            "text/plain": [
              "Index(['LIMIT_BAL', 'SEX', 'EDUCATION', 'MARRIAGE', 'AGE', 'df_one'], dtype='object')"
            ]
          },
          "metadata": {},
          "execution_count": 38
        }
      ]
    },
    {
      "cell_type": "markdown",
      "metadata": {
        "id": "gGsCBqqxPLsl"
      },
      "source": [
        "###  Removing ID column"
      ]
    },
    {
      "cell_type": "markdown",
      "metadata": {
        "id": "-XU4Kn3RPS5b"
      },
      "source": [
        "###  Grouping Eduction Categories"
      ]
    },
    {
      "cell_type": "code",
      "metadata": {
        "colab": {
          "base_uri": "https://localhost:8080/"
        },
        "id": "K2ewPOYYN47f",
        "outputId": "8f9fe2cc-3f5d-418c-e591-16a623da92d8"
      },
      "source": [
        "# Checking Education variable unique levels\n",
        "df['EDUCATION'].unique()"
      ],
      "execution_count": null,
      "outputs": [
        {
          "output_type": "execute_result",
          "data": {
            "text/plain": [
              "array([2, 1, 3, 5, 4, 6, 0])"
            ]
          },
          "metadata": {},
          "execution_count": 11
        }
      ]
    },
    {
      "cell_type": "code",
      "metadata": {
        "id": "5HyicRaBN8Pb"
      },
      "source": [
        "# Grouping \"others\" and \"unindentified\" levels \n",
        "df['EDUCATION']=np.where(df['EDUCATION'] == 5, 4, df['EDUCATION'])\n",
        "df['EDUCATION']=np.where(df['EDUCATION'] == 6, 4, df['EDUCATION'])\n",
        "df['EDUCATION']=np.where(df['EDUCATION'] == 0, 4, df['EDUCATION'])"
      ],
      "execution_count": null,
      "outputs": []
    },
    {
      "cell_type": "code",
      "metadata": {
        "colab": {
          "base_uri": "https://localhost:8080/"
        },
        "id": "l5WCoWe-N-H4",
        "outputId": "9d37bf5a-fe45-4165-b34a-bb94fcccf345"
      },
      "source": [
        "# Confirming grouping \n",
        "df['EDUCATION'].unique()"
      ],
      "execution_count": null,
      "outputs": [
        {
          "output_type": "execute_result",
          "data": {
            "text/plain": [
              "array([2, 1, 3, 4])"
            ]
          },
          "metadata": {},
          "execution_count": 13
        }
      ]
    },
    {
      "cell_type": "code",
      "metadata": {
        "colab": {
          "base_uri": "https://localhost:8080/",
          "height": 422
        },
        "id": "AksCYf6aN_zc",
        "outputId": "65cf5759-705c-42ea-e8dc-574d6835cf5a"
      },
      "source": [
        "# Frequencey distribution of amount of credit limit\n",
        "plt.figure(figsize = (10,6))\n",
        "plt.title('Amount of credit limit - Density Plot')\n",
        "plt.xlim([0,600000])\n",
        "plt.xlabel('Limit Balance (NT dollar)')\n",
        "plt.hist(df['LIMIT_BAL'], bins=200, color=['royalblue'])\n",
        "plt.show()\n",
        "plt.savefig('Amount of credit limit.png', dpi=200, transparent=True)"
      ],
      "execution_count": null,
      "outputs": [
        {
          "output_type": "display_data",
          "data": {
            "image/png": "[encoded data removed]",
            "text/plain": [
              "<Figure size 720x432 with 1 Axes>"
            ]
          },
          "metadata": {
            "needs_background": "light"
          }
        },
        {
          "output_type": "display_data",
          "data": {
            "text/plain": [
              "<Figure size 432x288 with 0 Axes>"
            ]
          },
          "metadata": {}
        }
      ]
    },
    {
      "cell_type": "markdown",
      "metadata": {
        "id": "IUzpYKZrPmCf"
      },
      "source": [
        "**$50000 is the credit limit common for larget number of people.**\n",
        "\n",
        "\n"
      ]
    },
    {
      "cell_type": "markdown",
      "metadata": {
        "id": "JrN2GV_OQq6i"
      },
      "source": [
        "### 2) Frequency distribution of Age\n"
      ]
    },
    {
      "cell_type": "code",
      "metadata": {
        "colab": {
          "base_uri": "https://localhost:8080/",
          "height": 295
        },
        "id": "iFGpxyiuQsa7",
        "outputId": "8783ca6d-15e2-42a1-a3fa-4f0a07f6aa8b"
      },
      "source": [
        "# Frequency distribution of age whole dataset\n",
        "plt.figure(figsize = (7,4))\n",
        "plt.title('AGE - Density Plot')\n",
        "plt.xlabel('AGE')\n",
        "plt.hist(df['AGE'], bins=200, color=['royalblue'])\n",
        "plt.show()"
      ],
      "execution_count": null,
      "outputs": [
        {
          "output_type": "display_data",
          "data": {
            "image/png": "[encoded data removed]",
            "text/plain": [
              "<Figure size 504x288 with 1 Axes>"
            ]
          },
          "metadata": {
            "needs_background": "light"
          }
        }
      ]
    },
    {
      "cell_type": "markdown",
      "metadata": {
        "id": "HkoMyepeQ24j"
      },
      "source": [
        "**Higher density of people found in age group 25 to 40. With highest density** \n"
      ]
    },
    {
      "cell_type": "markdown",
      "metadata": {
        "id": "HOCfP-sQRSjO"
      },
      "source": [
        "### 3) Gender\n",
        "\n",
        "\n"
      ]
    },
    {
      "cell_type": "code",
      "metadata": {
        "colab": {
          "base_uri": "https://localhost:8080/",
          "height": 205
        },
        "id": "eCz8iPc8RTPN",
        "outputId": "6fa43d49-d902-47a1-f12d-caa94036cfda"
      },
      "source": [
        "df.head()"
      ],
      "execution_count": null,
      "outputs": [
        {
          "output_type": "execute_result",
          "data": {
            "text/html": [
              "<div>\n",
              "<style scoped>\n",
              "    .dataframe tbody tr th:only-of-type {\n",
              "        vertical-align: middle;\n",
              "    }\n",
              "\n",
              "    .dataframe tbody tr th {\n",
              "        vertical-align: top;\n",
              "    }\n",
              "\n",
              "    .dataframe thead th {\n",
              "        text-align: right;\n",
              "    }\n",
              "</style>\n",
              "<table border=\"1\" class=\"dataframe\">\n",
              "  <thead>\n",
              "    <tr style=\"text-align: right;\">\n",
              "      <th></th>\n",
              "      <th>LIMIT_BAL</th>\n",
              "      <th>SEX</th>\n",
              "      <th>EDUCATION</th>\n",
              "      <th>MARRIAGE</th>\n",
              "      <th>AGE</th>\n",
              "      <th>default payment next month</th>\n",
              "    </tr>\n",
              "  </thead>\n",
              "  <tbody>\n",
              "    <tr>\n",
              "      <th>0</th>\n",
              "      <td>20000</td>\n",
              "      <td>2</td>\n",
              "      <td>2</td>\n",
              "      <td>1</td>\n",
              "      <td>24</td>\n",
              "      <td>1</td>\n",
              "    </tr>\n",
              "    <tr>\n",
              "      <th>1</th>\n",
              "      <td>120000</td>\n",
              "      <td>2</td>\n",
              "      <td>2</td>\n",
              "      <td>2</td>\n",
              "      <td>26</td>\n",
              "      <td>1</td>\n",
              "    </tr>\n",
              "    <tr>\n",
              "      <th>2</th>\n",
              "      <td>90000</td>\n",
              "      <td>2</td>\n",
              "      <td>2</td>\n",
              "      <td>2</td>\n",
              "      <td>34</td>\n",
              "      <td>0</td>\n",
              "    </tr>\n",
              "    <tr>\n",
              "      <th>3</th>\n",
              "      <td>50000</td>\n",
              "      <td>2</td>\n",
              "      <td>2</td>\n",
              "      <td>1</td>\n",
              "      <td>37</td>\n",
              "      <td>0</td>\n",
              "    </tr>\n",
              "    <tr>\n",
              "      <th>4</th>\n",
              "      <td>50000</td>\n",
              "      <td>1</td>\n",
              "      <td>2</td>\n",
              "      <td>1</td>\n",
              "      <td>57</td>\n",
              "      <td>0</td>\n",
              "    </tr>\n",
              "  </tbody>\n",
              "</table>\n",
              "</div>"
            ],
            "text/plain": [
              "   LIMIT_BAL  SEX  EDUCATION  MARRIAGE  AGE  default payment next month\n",
              "0      20000    2          2         1   24                           1\n",
              "1     120000    2          2         2   26                           1\n",
              "2      90000    2          2         2   34                           0\n",
              "3      50000    2          2         1   37                           0\n",
              "4      50000    1          2         1   57                           0"
            ]
          },
          "metadata": {},
          "execution_count": 16
        }
      ]
    },
    {
      "cell_type": "code",
      "metadata": {
        "colab": {
          "base_uri": "https://localhost:8080/"
        },
        "id": "FWPxo81LRpha",
        "outputId": "74428b2f-4809-4ed9-eb2d-2d94e86fc600"
      },
      "source": [
        "# Male vs. female counts\n",
        "df['SEX'].value_counts()"
      ],
      "execution_count": null,
      "outputs": [
        {
          "output_type": "execute_result",
          "data": {
            "text/plain": [
              "2    18112\n",
              "1    11888\n",
              "Name: SEX, dtype: int64"
            ]
          },
          "metadata": {},
          "execution_count": 17
        }
      ]
    },
    {
      "cell_type": "code",
      "metadata": {
        "colab": {
          "base_uri": "https://localhost:8080/",
          "height": 419
        },
        "id": "PgU4kaM6RrXG",
        "outputId": "0f6007ff-074d-4fd7-8471-8468b5db36b5"
      },
      "source": [
        "# Male vs. female count \n",
        "temp = df[\"SEX\"].value_counts()\n",
        "df_2 = (pd.DataFrame({'\"SEX\"': temp.index,'values': temp.values}))\n",
        "plt.figure(figsize = (6,6))\n",
        "plt.title('Male vs. Female\\n (Male = 1, Female = 2)')\n",
        "sns.set_color_codes(\"pastel\")\n",
        "sns.barplot(x = '\"SEX\"', y=\"values\", data=df_2, palette=\"deep\")\n",
        "locs, labels = plt.xticks()\n",
        "plt.show()"
      ],
      "execution_count": null,
      "outputs": [
        {
          "output_type": "display_data",
          "data": {
            "image/png": "[encoded data removed]",
            "text/plain": [
              "<Figure size 432x432 with 1 Axes>"
            ]
          },
          "metadata": {
            "needs_background": "light"
          }
        }
      ]
    },
    {
      "cell_type": "markdown",
      "metadata": {
        "id": "9_6QPzaZR-GB"
      },
      "source": [
        "**Higher proportion of female as compared to males.**\n"
      ]
    },
    {
      "cell_type": "code",
      "metadata": {
        "colab": {
          "base_uri": "https://localhost:8080/",
          "height": 224
        },
        "id": "0xUHwPXgR_HS",
        "outputId": "818d0009-ea4b-4efc-84f8-ba8c5598da94"
      },
      "source": [
        "# Balance limit based on Gender\n",
        "fig = sns.FacetGrid(df, hue='SEX', aspect = 2)\n",
        "fig.map(sns.kdeplot, 'LIMIT_BAL', shade = True)\n",
        "oldest = df['LIMIT_BAL'].max()\n",
        "fig.set(xlim=(0,oldest))\n",
        "plt.xlabel('Class')\n",
        "fig.add_legend()\n",
        "plt.show()\n",
        "fig.savefig('limit_Bal_sesx.jpg', dpi=200, transparent=True);\n"
      ],
      "execution_count": null,
      "outputs": [
        {
          "output_type": "display_data",
          "data": {
            "image/png": "[encoded data removed]",
            "text/plain": [
              "<Figure size 474.375x216 with 1 Axes>"
            ]
          },
          "metadata": {
            "needs_background": "light"
          }
        }
      ]
    },
    {
      "cell_type": "markdown",
      "metadata": {
        "id": "4FsHnoiFSOXk"
      },
      "source": [
        "**Higher proportion of males with lower credit limit balance.**"
      ]
    },
    {
      "cell_type": "code",
      "metadata": {
        "colab": {
          "base_uri": "https://localhost:8080/",
          "height": 225
        },
        "id": "m1ajAvyQSPJA",
        "outputId": "9b0cde17-05c6-4b2a-e3b3-d8c8d45d04d8"
      },
      "source": [
        "# Age distribution based on Gender \n",
        "fig = sns.FacetGrid(df, hue='SEX', aspect = 2)\n",
        "fig.map(sns.kdeplot, 'AGE', shade=True)\n",
        "oldest = df['AGE'].max()\n",
        "fig.set(xlim=(0,oldest))\n",
        "fig.add_legend()\n",
        "plt.show()\n",
        "fig.savefig(\"SEX_COUNT_kde.jpg\",bbox_inches = \"tight\")\n"
      ],
      "execution_count": null,
      "outputs": [
        {
          "output_type": "display_data",
          "data": {
            "image/png": "[encoded data removed]",
            "text/plain": [
              "<Figure size 474.375x216 with 1 Axes>"
            ]
          },
          "metadata": {
            "needs_background": "light"
          }
        }
      ]
    },
    {
      "cell_type": "markdown",
      "metadata": {
        "id": "IWCNqWq0STuG"
      },
      "source": [
        "**Higher proportion of females in age range 20 to 40.**"
      ]
    },
    {
      "cell_type": "code",
      "metadata": {
        "colab": {
          "base_uri": "https://localhost:8080/"
        },
        "id": "lCxV2IcqSWyY",
        "outputId": "a3461e74-867d-41e4-9454-fbd34e463f44"
      },
      "source": [
        "# Total count in each eduacation level\n",
        "df['EDUCATION'].value_counts()"
      ],
      "execution_count": null,
      "outputs": [
        {
          "output_type": "execute_result",
          "data": {
            "text/plain": [
              "2    14030\n",
              "1    10585\n",
              "3     4917\n",
              "4      468\n",
              "Name: EDUCATION, dtype: int64"
            ]
          },
          "metadata": {},
          "execution_count": 21
        }
      ]
    },
    {
      "cell_type": "code",
      "metadata": {
        "colab": {
          "base_uri": "https://localhost:8080/",
          "height": 437
        },
        "id": "ZgJW3yqCSuIQ",
        "outputId": "540aea17-b7eb-4895-f41a-5890fa932dd9"
      },
      "source": [
        "# Distribution of people by education level\n",
        "temp = df[\"EDUCATION\"].value_counts()\n",
        "df_3 = (pd.DataFrame({'\"EDUCATION\"': temp.index,'values': temp.values}))\n",
        "plt.figure(figsize = (6,6))\n",
        "plt.title('EDUCATION\\n (graduate school = 1, university = 2, highschool = 3, others = 0,4,5,6)')\n",
        "sns.set_color_codes(\"pastel\")\n",
        "sns.barplot(x = '\"EDUCATION\"', y=\"values\", data=df_3 , palette=\"deep\")\n",
        "locs, labels = plt.xticks()\n",
        "plt.show()\n",
        "plt.savefig(\"education effect.jpg\",bbox_inches = \"tight\")"
      ],
      "execution_count": null,
      "outputs": [
        {
          "output_type": "display_data",
          "data": {
            "image/png": "[encoded data removed]",
            "text/plain": [
              "<Figure size 432x432 with 1 Axes>"
            ]
          },
          "metadata": {
            "needs_background": "light"
          }
        },
        {
          "output_type": "display_data",
          "data": {
            "text/plain": [
              "<Figure size 432x288 with 0 Axes>"
            ]
          },
          "metadata": {}
        }
      ]
    },
    {
      "cell_type": "markdown",
      "metadata": {
        "id": "PbYFlOCLSzKW"
      },
      "source": [
        "**Highest proportion of people with university and graduate school education**"
      ]
    },
    {
      "cell_type": "code",
      "metadata": {
        "colab": {
          "base_uri": "https://localhost:8080/",
          "height": 225
        },
        "id": "04HXH_OzS4K_",
        "outputId": "f83df35c-c83e-4b7a-c717-52b17173f5ba"
      },
      "source": [
        "# Balance limit based on Education Level\n",
        "fig = sns.FacetGrid(df, hue='EDUCATION', aspect = 2)\n",
        "fig.map(sns.kdeplot, 'LIMIT_BAL', shade = True)\n",
        "oldest = df['LIMIT_BAL'].max()\n",
        "fig.set(xlim=(0,oldest))\n",
        "fig.add_legend()\n",
        "plt.show()\n",
        "fig.savefig(\"education_effect456.jpg\",bbox_inches = \"tight\")"
      ],
      "execution_count": null,
      "outputs": [
        {
          "output_type": "display_data",
          "data": {
            "image/png": "[encoded data removed]",
            "text/plain": [
              "<Figure size 498.5x216 with 1 Axes>"
            ]
          },
          "metadata": {
            "needs_background": "light"
          }
        }
      ]
    },
    {
      "cell_type": "markdown",
      "metadata": {
        "id": "fOZ5PIdcTU9t"
      },
      "source": [
        "**Higher proportion of non-defaulters and defaulters with university and graduate level education.**"
      ]
    },
    {
      "cell_type": "code",
      "metadata": {
        "colab": {
          "base_uri": "https://localhost:8080/",
          "height": 259
        },
        "id": "VM1hMhpATVrk",
        "outputId": "1c77d65a-e74d-414f-fb4e-173b02632778"
      },
      "source": [
        "# Age distribution based on Education\n",
        "fig = sns.FacetGrid(df, hue='EDUCATION', aspect = 2)\n",
        "fig.map(sns.kdeplot, 'AGE', shade=True)\n",
        "oldest = df['AGE'].max()\n",
        "fig.set(xlim=(0,oldest))\n",
        "plt.title(\"AGE vs EDUCATION\")\n",
        "fig.add_legend()\n",
        "plt.show()\n",
        "fig.savefig(\"AGE_EDUCATION.jpg\",bbox_inches = \"tight\")\n",
        "plt.savefig(\"education effect.jpg\",bbox_inches = \"tight\")"
      ],
      "execution_count": null,
      "outputs": [
        {
          "output_type": "display_data",
          "data": {
            "image/png": "[encoded data removed]",
            "text/plain": [
              "<Figure size 498.5x216 with 1 Axes>"
            ]
          },
          "metadata": {
            "needs_background": "light"
          }
        },
        {
          "output_type": "display_data",
          "data": {
            "text/plain": [
              "<Figure size 432x288 with 0 Axes>"
            ]
          },
          "metadata": {}
        }
      ]
    },
    {
      "cell_type": "markdown",
      "metadata": {
        "id": "TKKdG5W6TeCG"
      },
      "source": [
        "**Higher proportion of people with graduate and university level in age group 20 to 40. While high school and other levels show lower proportion.**"
      ]
    },
    {
      "cell_type": "markdown",
      "metadata": {
        "id": "OvxuRtrETjs2"
      },
      "source": [
        "### 4) Marital Status"
      ]
    },
    {
      "cell_type": "code",
      "metadata": {
        "colab": {
          "base_uri": "https://localhost:8080/"
        },
        "id": "b-NY-rhnTkhF",
        "outputId": "af5af2f9-f265-4ad3-a5a5-3c1a8efe2f41"
      },
      "source": [
        "# Total count in each marital status\n",
        "df['MARRIAGE'].value_counts(dropna=False)"
      ],
      "execution_count": null,
      "outputs": [
        {
          "output_type": "execute_result",
          "data": {
            "text/plain": [
              "2    15964\n",
              "1    13659\n",
              "3      323\n",
              "0       54\n",
              "Name: MARRIAGE, dtype: int64"
            ]
          },
          "metadata": {},
          "execution_count": 25
        }
      ]
    },
    {
      "cell_type": "code",
      "metadata": {
        "colab": {
          "base_uri": "https://localhost:8080/",
          "height": 419
        },
        "id": "kazauKXgTpGd",
        "outputId": "aa8f2095-bc47-4427-91c8-c8655ca5d12f"
      },
      "source": [
        "# Distribution of people by marital status level\n",
        "temp = df[\"MARRIAGE\"].value_counts()\n",
        "df_4 = (pd.DataFrame({'\"MARRIAGE\"': temp.index,'values': temp.values}))\n",
        "plt.figure(figsize = (6,6))\n",
        "plt.title('Marital Status\\n (married = 1, single = 2, divorce = 3, others = 0')\n",
        "sns.set_color_codes(\"pastel\")\n",
        "sns.barplot(x = '\"MARRIAGE\"', y=\"values\", data=df_4 , palette=\"deep\")\n",
        "locs, labels = plt.xticks()\n",
        "plt.show()"
      ],
      "execution_count": null,
      "outputs": [
        {
          "output_type": "display_data",
          "data": {
            "image/png": "[encoded data removed]",
            "text/plain": [
              "<Figure size 432x432 with 1 Axes>"
            ]
          },
          "metadata": {
            "needs_background": "light"
          }
        }
      ]
    },
    {
      "cell_type": "markdown",
      "metadata": {
        "id": "GBQ1ub5eT2Fk"
      },
      "source": [
        "**Higher proportion of people either married or single. Further proportion of \n",
        "singles is more than married**\n"
      ]
    },
    {
      "cell_type": "code",
      "metadata": {
        "colab": {
          "base_uri": "https://localhost:8080/",
          "height": 225
        },
        "id": "bxhk9DBrT4L5",
        "outputId": "ecb8678e-08db-407f-c2b8-1830daa3e514"
      },
      "source": [
        "# Balance limit based on Marital Status\n",
        "fig = sns.FacetGrid(df, hue='MARRIAGE', aspect = 2)\n",
        "fig.map(sns.kdeplot, 'LIMIT_BAL', shade = True)\n",
        "oldest = df['LIMIT_BAL'].max()\n",
        "fig.set(xlim=(0,oldest))\n",
        "fig.add_legend()\n",
        "plt.show()\n",
        "fig.savefig(\"marraige_effect456.jpg\",bbox_inches = \"tight\")"
      ],
      "execution_count": null,
      "outputs": [
        {
          "output_type": "display_data",
          "data": {
            "image/png": "[encoded data removed]",
            "text/plain": [
              "<Figure size 492.875x216 with 1 Axes>"
            ]
          },
          "metadata": {
            "needs_background": "light"
          }
        }
      ]
    },
    {
      "cell_type": "markdown",
      "metadata": {
        "id": "rNPvQ8b4UEpL"
      },
      "source": [
        "**Higher proportion of people with divorced marital status show lower df limit. While other statues show similar proportion.**"
      ]
    },
    {
      "cell_type": "code",
      "metadata": {
        "colab": {
          "base_uri": "https://localhost:8080/",
          "height": 243
        },
        "id": "hHe-6KSOT8OI",
        "outputId": "9b8f49a1-82e5-40b4-e3af-6b33e74d929b"
      },
      "source": [
        "# Age distribution based on Marital Status \n",
        "fig = sns.FacetGrid(df, hue = 'MARRIAGE', aspect = 2)\n",
        "fig.map(sns.kdeplot, 'AGE', shade = True)\n",
        "oldest = df['AGE'].max()\n",
        "fig.set(xlim=(0,oldest))\n",
        "fig.add_legend()\n",
        "plt.show()\n",
        "plt.savefig(\"education effect.jpg\",bbox_inches = \"tight\")"
      ],
      "execution_count": null,
      "outputs": [
        {
          "output_type": "display_data",
          "data": {
            "image/png": "[encoded data removed]",
            "text/plain": [
              "<Figure size 492.875x216 with 1 Axes>"
            ]
          },
          "metadata": {
            "needs_background": "light"
          }
        },
        {
          "output_type": "display_data",
          "data": {
            "text/plain": [
              "<Figure size 432x288 with 0 Axes>"
            ]
          },
          "metadata": {}
        }
      ]
    },
    {
      "cell_type": "markdown",
      "metadata": {
        "id": "zUX3rNBNUKxu"
      },
      "source": [
        "**Highest proportion of singles in age group 20 to 40.**"
      ]
    },
    {
      "cell_type": "markdown",
      "metadata": {
        "id": "_nZMky88Ub_M"
      },
      "source": [
        "## Conclusions from EDA:\n",
        "\n",
        "1.\tPotential defaulters show higher frequency of lower limit of amount of df limit.\n",
        "2.\tNon –defaulters show higher proportion in 25 to 40 years of age group.\n",
        "3.\tNon-defaulters have high proportion of females.\n",
        "4.\tNon-defaulters - singles and married in higher proportion.\n",
        "5.\tNon-defaulters have higher level of education (1 – graduate or 2 – university)\n",
        "6.\tPeople who had history of paying previous payments ahead of time are less likely to default next month.  "
      ]
    },
    {
      "cell_type": "code",
      "metadata": {
        "id": "GKLHJQayUejJ"
      },
      "source": [
        ""
      ],
      "execution_count": null,
      "outputs": []
    }
  ]
}