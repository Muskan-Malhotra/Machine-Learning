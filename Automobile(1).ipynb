{
  "nbformat": 4,
  "nbformat_minor": 0,
  "metadata": {
    "kernelspec": {
      "display_name": "Python 3",
      "language": "python",
      "name": "python3"
    },
    "language_info": {
      "codemirror_mode": {
        "name": "ipython",
        "version": 3
      },
      "file_extension": ".py",
      "mimetype": "text/x-python",
      "name": "python",
      "nbconvert_exporter": "python",
      "pygments_lexer": "ipython3",
      "version": "3.7.1"
    },
    "colab": {
      "name": "Automobile(1).ipynb",
      "provenance": [],
      "toc_visible": true,
      "include_colab_link": true
    }
  },
  "cells": [
    {
      "cell_type": "markdown",
      "metadata": {
        "id": "view-in-github",
        "colab_type": "text"
      },
      "source": [
        "<a href=\"https://colab.research.google.com/github/Muskan-Malhotra/Machine-Learning/blob/main/Automobile(1).ipynb\" target=\"_parent\"><img src=\"https://colab.research.google.com/assets/colab-badge.svg\" alt=\"Open In Colab\"/></a>"
      ]
    },
    {
      "cell_type": "code",
      "metadata": {
        "id": "uIBIoSRAYkFj",
        "colab": {
          "base_uri": "https://localhost:8080/"
        },
        "outputId": "9d1b46ea-41a8-4430-d9b2-7037f2adf459"
      },
      "source": [
        "from google.colab import drive\n",
        "drive.mount('/content/drive')"
      ],
      "execution_count": null,
      "outputs": [
        {
          "output_type": "stream",
          "name": "stdout",
          "text": [
            "Mounted at /content/drive\n"
          ]
        }
      ]
    },
    {
      "cell_type": "code",
      "metadata": {
        "id": "KChxz48KZJ6f"
      },
      "source": [
        "import numpy as np\n",
        "import pandas as pd"
      ],
      "execution_count": null,
      "outputs": []
    },
    {
      "cell_type": "code",
      "metadata": {
        "id": "y9JLNl6RYgMe"
      },
      "source": [
        "df = pd.read_csv('/content/drive/MyDrive/Projects/Automobile price data _Raw_.csv')"
      ],
      "execution_count": null,
      "outputs": []
    },
    {
      "cell_type": "code",
      "metadata": {
        "id": "W79NNuhPYgMf",
        "colab": {
          "base_uri": "https://localhost:8080/",
          "height": 309
        },
        "outputId": "2fdd16d2-3480-4895-c986-6255f350df3e"
      },
      "source": [
        "df.head()"
      ],
      "execution_count": null,
      "outputs": [
        {
          "output_type": "execute_result",
          "data": {
            "text/html": [
              "<div>\n",
              "<style scoped>\n",
              "    .dataframe tbody tr th:only-of-type {\n",
              "        vertical-align: middle;\n",
              "    }\n",
              "\n",
              "    .dataframe tbody tr th {\n",
              "        vertical-align: top;\n",
              "    }\n",
              "\n",
              "    .dataframe thead th {\n",
              "        text-align: right;\n",
              "    }\n",
              "</style>\n",
              "<table border=\"1\" class=\"dataframe\">\n",
              "  <thead>\n",
              "    <tr style=\"text-align: right;\">\n",
              "      <th></th>\n",
              "      <th>symboling</th>\n",
              "      <th>normalized-losses</th>\n",
              "      <th>make</th>\n",
              "      <th>fuel-type</th>\n",
              "      <th>aspiration</th>\n",
              "      <th>num-of-doors</th>\n",
              "      <th>body-style</th>\n",
              "      <th>drive-wheels</th>\n",
              "      <th>engine-location</th>\n",
              "      <th>wheel-base</th>\n",
              "      <th>length</th>\n",
              "      <th>width</th>\n",
              "      <th>height</th>\n",
              "      <th>curb-weight</th>\n",
              "      <th>engine-type</th>\n",
              "      <th>num-of-cylinders</th>\n",
              "      <th>engine-size</th>\n",
              "      <th>fuel-system</th>\n",
              "      <th>bore</th>\n",
              "      <th>stroke</th>\n",
              "      <th>compression-ratio</th>\n",
              "      <th>horsepower</th>\n",
              "      <th>peak-rpm</th>\n",
              "      <th>city-mpg</th>\n",
              "      <th>highway-mpg</th>\n",
              "      <th>price</th>\n",
              "    </tr>\n",
              "  </thead>\n",
              "  <tbody>\n",
              "    <tr>\n",
              "      <th>0</th>\n",
              "      <td>3</td>\n",
              "      <td>?</td>\n",
              "      <td>alfa-romero</td>\n",
              "      <td>gas</td>\n",
              "      <td>std</td>\n",
              "      <td>two</td>\n",
              "      <td>convertible</td>\n",
              "      <td>rwd</td>\n",
              "      <td>front</td>\n",
              "      <td>88.6</td>\n",
              "      <td>168.8</td>\n",
              "      <td>64.1</td>\n",
              "      <td>48.8</td>\n",
              "      <td>2548</td>\n",
              "      <td>dohc</td>\n",
              "      <td>four</td>\n",
              "      <td>130</td>\n",
              "      <td>mpfi</td>\n",
              "      <td>3.47</td>\n",
              "      <td>2.68</td>\n",
              "      <td>9.0</td>\n",
              "      <td>111</td>\n",
              "      <td>5000</td>\n",
              "      <td>21</td>\n",
              "      <td>27</td>\n",
              "      <td>13495</td>\n",
              "    </tr>\n",
              "    <tr>\n",
              "      <th>1</th>\n",
              "      <td>3</td>\n",
              "      <td>?</td>\n",
              "      <td>alfa-romero</td>\n",
              "      <td>gas</td>\n",
              "      <td>std</td>\n",
              "      <td>two</td>\n",
              "      <td>convertible</td>\n",
              "      <td>rwd</td>\n",
              "      <td>front</td>\n",
              "      <td>88.6</td>\n",
              "      <td>168.8</td>\n",
              "      <td>64.1</td>\n",
              "      <td>48.8</td>\n",
              "      <td>2548</td>\n",
              "      <td>dohc</td>\n",
              "      <td>four</td>\n",
              "      <td>130</td>\n",
              "      <td>mpfi</td>\n",
              "      <td>3.47</td>\n",
              "      <td>2.68</td>\n",
              "      <td>9.0</td>\n",
              "      <td>111</td>\n",
              "      <td>5000</td>\n",
              "      <td>21</td>\n",
              "      <td>27</td>\n",
              "      <td>16500</td>\n",
              "    </tr>\n",
              "    <tr>\n",
              "      <th>2</th>\n",
              "      <td>1</td>\n",
              "      <td>?</td>\n",
              "      <td>alfa-romero</td>\n",
              "      <td>gas</td>\n",
              "      <td>std</td>\n",
              "      <td>two</td>\n",
              "      <td>hatchback</td>\n",
              "      <td>rwd</td>\n",
              "      <td>front</td>\n",
              "      <td>94.5</td>\n",
              "      <td>171.2</td>\n",
              "      <td>65.5</td>\n",
              "      <td>52.4</td>\n",
              "      <td>2823</td>\n",
              "      <td>ohcv</td>\n",
              "      <td>six</td>\n",
              "      <td>152</td>\n",
              "      <td>mpfi</td>\n",
              "      <td>2.68</td>\n",
              "      <td>3.47</td>\n",
              "      <td>9.0</td>\n",
              "      <td>154</td>\n",
              "      <td>5000</td>\n",
              "      <td>19</td>\n",
              "      <td>26</td>\n",
              "      <td>16500</td>\n",
              "    </tr>\n",
              "    <tr>\n",
              "      <th>3</th>\n",
              "      <td>2</td>\n",
              "      <td>164</td>\n",
              "      <td>audi</td>\n",
              "      <td>gas</td>\n",
              "      <td>std</td>\n",
              "      <td>four</td>\n",
              "      <td>sedan</td>\n",
              "      <td>fwd</td>\n",
              "      <td>front</td>\n",
              "      <td>99.8</td>\n",
              "      <td>176.6</td>\n",
              "      <td>66.2</td>\n",
              "      <td>54.3</td>\n",
              "      <td>2337</td>\n",
              "      <td>ohc</td>\n",
              "      <td>four</td>\n",
              "      <td>109</td>\n",
              "      <td>mpfi</td>\n",
              "      <td>3.19</td>\n",
              "      <td>3.40</td>\n",
              "      <td>10.0</td>\n",
              "      <td>102</td>\n",
              "      <td>5500</td>\n",
              "      <td>24</td>\n",
              "      <td>30</td>\n",
              "      <td>13950</td>\n",
              "    </tr>\n",
              "    <tr>\n",
              "      <th>4</th>\n",
              "      <td>2</td>\n",
              "      <td>164</td>\n",
              "      <td>audi</td>\n",
              "      <td>gas</td>\n",
              "      <td>std</td>\n",
              "      <td>four</td>\n",
              "      <td>sedan</td>\n",
              "      <td>4wd</td>\n",
              "      <td>front</td>\n",
              "      <td>99.4</td>\n",
              "      <td>176.6</td>\n",
              "      <td>66.4</td>\n",
              "      <td>54.3</td>\n",
              "      <td>2824</td>\n",
              "      <td>ohc</td>\n",
              "      <td>five</td>\n",
              "      <td>136</td>\n",
              "      <td>mpfi</td>\n",
              "      <td>3.19</td>\n",
              "      <td>3.40</td>\n",
              "      <td>8.0</td>\n",
              "      <td>115</td>\n",
              "      <td>5500</td>\n",
              "      <td>18</td>\n",
              "      <td>22</td>\n",
              "      <td>17450</td>\n",
              "    </tr>\n",
              "  </tbody>\n",
              "</table>\n",
              "</div>"
            ],
            "text/plain": [
              "   symboling normalized-losses         make  ... city-mpg highway-mpg  price\n",
              "0          3                 ?  alfa-romero  ...       21          27  13495\n",
              "1          3                 ?  alfa-romero  ...       21          27  16500\n",
              "2          1                 ?  alfa-romero  ...       19          26  16500\n",
              "3          2               164         audi  ...       24          30  13950\n",
              "4          2               164         audi  ...       18          22  17450\n",
              "\n",
              "[5 rows x 26 columns]"
            ]
          },
          "metadata": {},
          "execution_count": 4
        }
      ]
    },
    {
      "cell_type": "code",
      "metadata": {
        "id": "7mSPGNUjYgMg",
        "colab": {
          "base_uri": "https://localhost:8080/"
        },
        "outputId": "8ebecda2-6d93-4db1-b6fe-1acb7ae65c64"
      },
      "source": [
        "df.shape"
      ],
      "execution_count": null,
      "outputs": [
        {
          "output_type": "execute_result",
          "data": {
            "text/plain": [
              "(205, 26)"
            ]
          },
          "metadata": {},
          "execution_count": 5
        }
      ]
    },
    {
      "cell_type": "code",
      "metadata": {
        "id": "Bxp2iel2YgMh",
        "colab": {
          "base_uri": "https://localhost:8080/",
          "height": 297
        },
        "outputId": "875943d4-5fad-4f8d-90a0-71fb37133f63"
      },
      "source": [
        "df.describe()"
      ],
      "execution_count": null,
      "outputs": [
        {
          "output_type": "execute_result",
          "data": {
            "text/html": [
              "<div>\n",
              "<style scoped>\n",
              "    .dataframe tbody tr th:only-of-type {\n",
              "        vertical-align: middle;\n",
              "    }\n",
              "\n",
              "    .dataframe tbody tr th {\n",
              "        vertical-align: top;\n",
              "    }\n",
              "\n",
              "    .dataframe thead th {\n",
              "        text-align: right;\n",
              "    }\n",
              "</style>\n",
              "<table border=\"1\" class=\"dataframe\">\n",
              "  <thead>\n",
              "    <tr style=\"text-align: right;\">\n",
              "      <th></th>\n",
              "      <th>symboling</th>\n",
              "      <th>wheel-base</th>\n",
              "      <th>length</th>\n",
              "      <th>width</th>\n",
              "      <th>height</th>\n",
              "      <th>curb-weight</th>\n",
              "      <th>engine-size</th>\n",
              "      <th>compression-ratio</th>\n",
              "      <th>city-mpg</th>\n",
              "      <th>highway-mpg</th>\n",
              "    </tr>\n",
              "  </thead>\n",
              "  <tbody>\n",
              "    <tr>\n",
              "      <th>count</th>\n",
              "      <td>205.000000</td>\n",
              "      <td>205.000000</td>\n",
              "      <td>205.000000</td>\n",
              "      <td>205.000000</td>\n",
              "      <td>205.000000</td>\n",
              "      <td>205.000000</td>\n",
              "      <td>205.000000</td>\n",
              "      <td>205.000000</td>\n",
              "      <td>205.000000</td>\n",
              "      <td>205.000000</td>\n",
              "    </tr>\n",
              "    <tr>\n",
              "      <th>mean</th>\n",
              "      <td>0.834146</td>\n",
              "      <td>98.756585</td>\n",
              "      <td>174.049268</td>\n",
              "      <td>65.907805</td>\n",
              "      <td>53.724878</td>\n",
              "      <td>2555.565854</td>\n",
              "      <td>126.907317</td>\n",
              "      <td>10.142537</td>\n",
              "      <td>25.219512</td>\n",
              "      <td>30.751220</td>\n",
              "    </tr>\n",
              "    <tr>\n",
              "      <th>std</th>\n",
              "      <td>1.245307</td>\n",
              "      <td>6.021776</td>\n",
              "      <td>12.337289</td>\n",
              "      <td>2.145204</td>\n",
              "      <td>2.443522</td>\n",
              "      <td>520.680204</td>\n",
              "      <td>41.642693</td>\n",
              "      <td>3.972040</td>\n",
              "      <td>6.542142</td>\n",
              "      <td>6.886443</td>\n",
              "    </tr>\n",
              "    <tr>\n",
              "      <th>min</th>\n",
              "      <td>-2.000000</td>\n",
              "      <td>86.600000</td>\n",
              "      <td>141.100000</td>\n",
              "      <td>60.300000</td>\n",
              "      <td>47.800000</td>\n",
              "      <td>1488.000000</td>\n",
              "      <td>61.000000</td>\n",
              "      <td>7.000000</td>\n",
              "      <td>13.000000</td>\n",
              "      <td>16.000000</td>\n",
              "    </tr>\n",
              "    <tr>\n",
              "      <th>25%</th>\n",
              "      <td>0.000000</td>\n",
              "      <td>94.500000</td>\n",
              "      <td>166.300000</td>\n",
              "      <td>64.100000</td>\n",
              "      <td>52.000000</td>\n",
              "      <td>2145.000000</td>\n",
              "      <td>97.000000</td>\n",
              "      <td>8.600000</td>\n",
              "      <td>19.000000</td>\n",
              "      <td>25.000000</td>\n",
              "    </tr>\n",
              "    <tr>\n",
              "      <th>50%</th>\n",
              "      <td>1.000000</td>\n",
              "      <td>97.000000</td>\n",
              "      <td>173.200000</td>\n",
              "      <td>65.500000</td>\n",
              "      <td>54.100000</td>\n",
              "      <td>2414.000000</td>\n",
              "      <td>120.000000</td>\n",
              "      <td>9.000000</td>\n",
              "      <td>24.000000</td>\n",
              "      <td>30.000000</td>\n",
              "    </tr>\n",
              "    <tr>\n",
              "      <th>75%</th>\n",
              "      <td>2.000000</td>\n",
              "      <td>102.400000</td>\n",
              "      <td>183.100000</td>\n",
              "      <td>66.900000</td>\n",
              "      <td>55.500000</td>\n",
              "      <td>2935.000000</td>\n",
              "      <td>141.000000</td>\n",
              "      <td>9.400000</td>\n",
              "      <td>30.000000</td>\n",
              "      <td>34.000000</td>\n",
              "    </tr>\n",
              "    <tr>\n",
              "      <th>max</th>\n",
              "      <td>3.000000</td>\n",
              "      <td>120.900000</td>\n",
              "      <td>208.100000</td>\n",
              "      <td>72.300000</td>\n",
              "      <td>59.800000</td>\n",
              "      <td>4066.000000</td>\n",
              "      <td>326.000000</td>\n",
              "      <td>23.000000</td>\n",
              "      <td>49.000000</td>\n",
              "      <td>54.000000</td>\n",
              "    </tr>\n",
              "  </tbody>\n",
              "</table>\n",
              "</div>"
            ],
            "text/plain": [
              "        symboling  wheel-base  ...    city-mpg  highway-mpg\n",
              "count  205.000000  205.000000  ...  205.000000   205.000000\n",
              "mean     0.834146   98.756585  ...   25.219512    30.751220\n",
              "std      1.245307    6.021776  ...    6.542142     6.886443\n",
              "min     -2.000000   86.600000  ...   13.000000    16.000000\n",
              "25%      0.000000   94.500000  ...   19.000000    25.000000\n",
              "50%      1.000000   97.000000  ...   24.000000    30.000000\n",
              "75%      2.000000  102.400000  ...   30.000000    34.000000\n",
              "max      3.000000  120.900000  ...   49.000000    54.000000\n",
              "\n",
              "[8 rows x 10 columns]"
            ]
          },
          "metadata": {},
          "execution_count": 6
        }
      ]
    },
    {
      "cell_type": "code",
      "metadata": {
        "id": "Nps16Uh-YgMj",
        "colab": {
          "base_uri": "https://localhost:8080/"
        },
        "outputId": "a5092780-9097-4412-e96e-211e3bc34347"
      },
      "source": [
        "df.isnull().sum()"
      ],
      "execution_count": null,
      "outputs": [
        {
          "output_type": "execute_result",
          "data": {
            "text/plain": [
              "symboling            0\n",
              "normalized-losses    0\n",
              "make                 0\n",
              "fuel-type            0\n",
              "aspiration           0\n",
              "num-of-doors         0\n",
              "body-style           0\n",
              "drive-wheels         0\n",
              "engine-location      0\n",
              "wheel-base           0\n",
              "length               0\n",
              "width                0\n",
              "height               0\n",
              "curb-weight          0\n",
              "engine-type          0\n",
              "num-of-cylinders     0\n",
              "engine-size          0\n",
              "fuel-system          0\n",
              "bore                 0\n",
              "stroke               0\n",
              "compression-ratio    0\n",
              "horsepower           0\n",
              "peak-rpm             0\n",
              "city-mpg             0\n",
              "highway-mpg          0\n",
              "price                0\n",
              "dtype: int64"
            ]
          },
          "metadata": {},
          "execution_count": 7
        }
      ]
    },
    {
      "cell_type": "code",
      "metadata": {
        "id": "QTI0ogjOYgMk",
        "colab": {
          "base_uri": "https://localhost:8080/"
        },
        "outputId": "dffaba9b-5465-4979-86db-7490c19de0e6"
      },
      "source": [
        "df['symboling'].unique()"
      ],
      "execution_count": null,
      "outputs": [
        {
          "output_type": "execute_result",
          "data": {
            "text/plain": [
              "array([ 3,  1,  2,  0, -1, -2])"
            ]
          },
          "metadata": {},
          "execution_count": 8
        }
      ]
    },
    {
      "cell_type": "code",
      "metadata": {
        "id": "wbdT8UmpYgMl",
        "colab": {
          "base_uri": "https://localhost:8080/"
        },
        "outputId": "a4554c0d-9a28-4e6b-d4a1-77c81c6a887a"
      },
      "source": [
        "df['normalized-losses'].unique()"
      ],
      "execution_count": null,
      "outputs": [
        {
          "output_type": "execute_result",
          "data": {
            "text/plain": [
              "array(['?', '164', '158', '192', '188', '121', '98', '81', '118', '148',\n",
              "       '110', '145', '137', '101', '78', '106', '85', '107', '104', '113',\n",
              "       '150', '129', '115', '93', '142', '161', '153', '125', '128',\n",
              "       '122', '103', '168', '108', '194', '231', '119', '154', '74',\n",
              "       '186', '83', '102', '89', '87', '77', '91', '134', '65', '197',\n",
              "       '90', '94', '256', '95'], dtype=object)"
            ]
          },
          "metadata": {},
          "execution_count": 9
        }
      ]
    },
    {
      "cell_type": "code",
      "metadata": {
        "id": "Wk_8JOgqYgMm",
        "colab": {
          "base_uri": "https://localhost:8080/"
        },
        "outputId": "19704b57-e7ce-4f74-902b-b69762e7a917"
      },
      "source": [
        "df['normalized-losses'].loc[df['normalized-losses'] == '?'].count()"
      ],
      "execution_count": null,
      "outputs": [
        {
          "output_type": "execute_result",
          "data": {
            "text/plain": [
              "41"
            ]
          },
          "metadata": {},
          "execution_count": 10
        }
      ]
    },
    {
      "cell_type": "code",
      "metadata": {
        "id": "G_fyKhP7YgMm",
        "colab": {
          "base_uri": "https://localhost:8080/"
        },
        "outputId": "af6fe0cf-89c7-4e11-9519-b92e971e78b8"
      },
      "source": [
        "df['normalized-losses'].str.isnumeric().value_counts()"
      ],
      "execution_count": null,
      "outputs": [
        {
          "output_type": "execute_result",
          "data": {
            "text/plain": [
              "True     164\n",
              "False     41\n",
              "Name: normalized-losses, dtype: int64"
            ]
          },
          "metadata": {},
          "execution_count": 11
        }
      ]
    },
    {
      "cell_type": "code",
      "metadata": {
        "id": "ZG1U5H_LYgMn",
        "colab": {
          "base_uri": "https://localhost:8080/"
        },
        "outputId": "058f2710-d882-4811-8ec7-fba42b74931d"
      },
      "source": [
        "df['normalized-losses'].loc[df['normalized-losses'].str.isnumeric() == False]"
      ],
      "execution_count": null,
      "outputs": [
        {
          "output_type": "execute_result",
          "data": {
            "text/plain": [
              "0      ?\n",
              "1      ?\n",
              "2      ?\n",
              "5      ?\n",
              "7      ?\n",
              "9      ?\n",
              "14     ?\n",
              "15     ?\n",
              "16     ?\n",
              "17     ?\n",
              "43     ?\n",
              "44     ?\n",
              "45     ?\n",
              "46     ?\n",
              "48     ?\n",
              "49     ?\n",
              "63     ?\n",
              "66     ?\n",
              "71     ?\n",
              "73     ?\n",
              "74     ?\n",
              "75     ?\n",
              "82     ?\n",
              "83     ?\n",
              "84     ?\n",
              "109    ?\n",
              "110    ?\n",
              "113    ?\n",
              "114    ?\n",
              "124    ?\n",
              "126    ?\n",
              "127    ?\n",
              "128    ?\n",
              "129    ?\n",
              "130    ?\n",
              "131    ?\n",
              "181    ?\n",
              "189    ?\n",
              "191    ?\n",
              "192    ?\n",
              "193    ?\n",
              "Name: normalized-losses, dtype: object"
            ]
          },
          "metadata": {},
          "execution_count": 12
        }
      ]
    },
    {
      "cell_type": "code",
      "metadata": {
        "id": "7dTFnFPIYgMo",
        "colab": {
          "base_uri": "https://localhost:8080/"
        },
        "outputId": "f0459a64-f3dc-489e-9d60-6ced6854c8a6"
      },
      "source": [
        "nl = df['normalized-losses'] .loc[df['normalized-losses']  != '?']\n",
        "nl_m = nl.astype(str).astype(int).mean()\n",
        "df['normalized-losses']  = df['normalized-losses'] .replace('?',nl_m).astype(int)\n",
        "df['normalized-losses'].head()"
      ],
      "execution_count": null,
      "outputs": [
        {
          "output_type": "execute_result",
          "data": {
            "text/plain": [
              "0    122\n",
              "1    122\n",
              "2    122\n",
              "3    164\n",
              "4    164\n",
              "Name: normalized-losses, dtype: int64"
            ]
          },
          "metadata": {},
          "execution_count": 13
        }
      ]
    },
    {
      "cell_type": "code",
      "metadata": {
        "id": "QJ3aK_rEYgMp",
        "colab": {
          "base_uri": "https://localhost:8080/"
        },
        "outputId": "812d1f67-4fd0-4573-b86a-12cbbdb5f9f9"
      },
      "source": [
        "df['make'].unique()"
      ],
      "execution_count": null,
      "outputs": [
        {
          "output_type": "execute_result",
          "data": {
            "text/plain": [
              "array(['alfa-romero', 'audi', 'bmw', 'chevrolet', 'dodge', 'honda',\n",
              "       'isuzu', 'jaguar', 'mazda', 'mercedes-benz', 'mercury',\n",
              "       'mitsubishi', 'nissan', 'peugot', 'plymouth', 'porsche', 'renault',\n",
              "       'saab', 'subaru', 'toyota', 'volkswagen', 'volvo'], dtype=object)"
            ]
          },
          "metadata": {},
          "execution_count": 14
        }
      ]
    },
    {
      "cell_type": "code",
      "metadata": {
        "id": "PBha4QqzYgMq",
        "colab": {
          "base_uri": "https://localhost:8080/"
        },
        "outputId": "1eedec8b-a3a8-4e25-a153-4055787f8713"
      },
      "source": [
        "df['num-of-doors'].unique()"
      ],
      "execution_count": null,
      "outputs": [
        {
          "output_type": "execute_result",
          "data": {
            "text/plain": [
              "array(['two', 'four', '?'], dtype=object)"
            ]
          },
          "metadata": {},
          "execution_count": 15
        }
      ]
    },
    {
      "cell_type": "code",
      "metadata": {
        "id": "5K_zifqyYgMr",
        "colab": {
          "base_uri": "https://localhost:8080/"
        },
        "outputId": "64e12c89-1c7a-4dff-8216-9d4014719162"
      },
      "source": [
        "df['fuel-type'].unique()"
      ],
      "execution_count": null,
      "outputs": [
        {
          "output_type": "execute_result",
          "data": {
            "text/plain": [
              "array(['gas', 'diesel'], dtype=object)"
            ]
          },
          "metadata": {},
          "execution_count": 16
        }
      ]
    },
    {
      "cell_type": "code",
      "metadata": {
        "id": "ze8ZWgk0YgMr",
        "colab": {
          "base_uri": "https://localhost:8080/"
        },
        "outputId": "82560269-70a3-48c5-854b-05414287e520"
      },
      "source": [
        "df['aspiration'].unique()"
      ],
      "execution_count": null,
      "outputs": [
        {
          "output_type": "execute_result",
          "data": {
            "text/plain": [
              "array(['std', 'turbo'], dtype=object)"
            ]
          },
          "metadata": {},
          "execution_count": 17
        }
      ]
    },
    {
      "cell_type": "code",
      "metadata": {
        "id": "vYPcmvKfYgMs",
        "colab": {
          "base_uri": "https://localhost:8080/"
        },
        "outputId": "63ff0c86-241f-467f-94cf-e4a56928e5e1"
      },
      "source": [
        "df['num-of-doors'].unique()"
      ],
      "execution_count": null,
      "outputs": [
        {
          "output_type": "execute_result",
          "data": {
            "text/plain": [
              "array(['two', 'four', '?'], dtype=object)"
            ]
          },
          "metadata": {},
          "execution_count": 18
        }
      ]
    },
    {
      "cell_type": "code",
      "metadata": {
        "id": "0CnwJ09GYgMt",
        "colab": {
          "base_uri": "https://localhost:8080/"
        },
        "outputId": "0026818a-efaf-4565-ccc9-a0833be7b3c4"
      },
      "source": [
        "df['num-of-doors'].isnull().sum()"
      ],
      "execution_count": null,
      "outputs": [
        {
          "output_type": "execute_result",
          "data": {
            "text/plain": [
              "0"
            ]
          },
          "metadata": {},
          "execution_count": 19
        }
      ]
    },
    {
      "cell_type": "code",
      "metadata": {
        "id": "TEpS9Y5TYgMu",
        "colab": {
          "base_uri": "https://localhost:8080/"
        },
        "outputId": "d92bf57b-54aa-4bc9-ecb6-37fa378cc8d0"
      },
      "source": [
        "df['num-of-doors'].loc[df['num-of-doors'] == '?'].count()"
      ],
      "execution_count": null,
      "outputs": [
        {
          "output_type": "execute_result",
          "data": {
            "text/plain": [
              "2"
            ]
          },
          "metadata": {},
          "execution_count": 20
        }
      ]
    },
    {
      "cell_type": "code",
      "metadata": {
        "id": "g9S2a-OqYgMv",
        "colab": {
          "base_uri": "https://localhost:8080/"
        },
        "outputId": "12c3775d-3319-4425-9644-a92fadb7c61c"
      },
      "source": [
        "df['num-of-doors'].str.isnumeric().value_counts()"
      ],
      "execution_count": null,
      "outputs": [
        {
          "output_type": "execute_result",
          "data": {
            "text/plain": [
              "False    205\n",
              "Name: num-of-doors, dtype: int64"
            ]
          },
          "metadata": {},
          "execution_count": 21
        }
      ]
    },
    {
      "cell_type": "code",
      "metadata": {
        "id": "-gDvsdMbYgMw",
        "colab": {
          "base_uri": "https://localhost:8080/"
        },
        "outputId": "9f8d58c1-69d5-4d52-a2e4-d375f3e98c85"
      },
      "source": [
        "df['num-of-doors'].loc[df['num-of-doors'].str.isnumeric() == False]"
      ],
      "execution_count": null,
      "outputs": [
        {
          "output_type": "execute_result",
          "data": {
            "text/plain": [
              "0       two\n",
              "1       two\n",
              "2       two\n",
              "3      four\n",
              "4      four\n",
              "       ... \n",
              "200    four\n",
              "201    four\n",
              "202    four\n",
              "203    four\n",
              "204    four\n",
              "Name: num-of-doors, Length: 205, dtype: object"
            ]
          },
          "metadata": {},
          "execution_count": 22
        }
      ]
    },
    {
      "cell_type": "code",
      "metadata": {
        "id": "l1Y0myPVYgMx",
        "colab": {
          "base_uri": "https://localhost:8080/"
        },
        "outputId": "b69ca0fb-400d-49a6-db84-6ff3786cb7e4"
      },
      "source": [
        "# remove the records which are having the value '?'\n",
        "df['num-of-doors'].loc[df['num-of-doors'] == '?']\n",
        "df = df[df['num-of-doors'] != '?']\n",
        "df['num-of-doors'].loc[df['num-of-doors'] == '?']"
      ],
      "execution_count": null,
      "outputs": [
        {
          "output_type": "execute_result",
          "data": {
            "text/plain": [
              "Series([], Name: num-of-doors, dtype: object)"
            ]
          },
          "metadata": {},
          "execution_count": 23
        }
      ]
    },
    {
      "cell_type": "code",
      "metadata": {
        "id": "wdJyK4wlYgMx",
        "colab": {
          "base_uri": "https://localhost:8080/"
        },
        "outputId": "b076c104-4083-4b60-d108-9e54d6f11b1d"
      },
      "source": [
        "df['drive-wheels'].unique()"
      ],
      "execution_count": null,
      "outputs": [
        {
          "output_type": "execute_result",
          "data": {
            "text/plain": [
              "array(['rwd', 'fwd', '4wd'], dtype=object)"
            ]
          },
          "metadata": {},
          "execution_count": 24
        }
      ]
    },
    {
      "cell_type": "code",
      "metadata": {
        "id": "h6q6Hp4uYgMy",
        "colab": {
          "base_uri": "https://localhost:8080/"
        },
        "outputId": "de714c65-29a2-46ee-8ab2-2d90a4b58c97"
      },
      "source": [
        "df['drive-wheels']  = df['drive-wheels'] .replace('4wd','rwd')\n",
        "df['drive-wheels'].head()"
      ],
      "execution_count": null,
      "outputs": [
        {
          "output_type": "execute_result",
          "data": {
            "text/plain": [
              "0    rwd\n",
              "1    rwd\n",
              "2    rwd\n",
              "3    fwd\n",
              "4    rwd\n",
              "Name: drive-wheels, dtype: object"
            ]
          },
          "metadata": {},
          "execution_count": 25
        }
      ]
    },
    {
      "cell_type": "code",
      "metadata": {
        "id": "01J6Me1UYgM0",
        "colab": {
          "base_uri": "https://localhost:8080/"
        },
        "outputId": "d015bc46-438f-4b04-eed8-3709e63dcab2"
      },
      "source": [
        "df['drive-wheels'].unique()"
      ],
      "execution_count": null,
      "outputs": [
        {
          "output_type": "execute_result",
          "data": {
            "text/plain": [
              "array(['rwd', 'fwd'], dtype=object)"
            ]
          },
          "metadata": {},
          "execution_count": 26
        }
      ]
    },
    {
      "cell_type": "code",
      "metadata": {
        "id": "ftJ3TAz5YgM2",
        "colab": {
          "base_uri": "https://localhost:8080/"
        },
        "outputId": "e80d213f-4aa8-469b-e54f-37968d78914b"
      },
      "source": [
        "df['engine-location'].unique()"
      ],
      "execution_count": null,
      "outputs": [
        {
          "output_type": "execute_result",
          "data": {
            "text/plain": [
              "array(['front', 'rear'], dtype=object)"
            ]
          },
          "metadata": {},
          "execution_count": 27
        }
      ]
    },
    {
      "cell_type": "code",
      "metadata": {
        "id": "OqMoN3THYgM2",
        "colab": {
          "base_uri": "https://localhost:8080/"
        },
        "outputId": "be0b16fb-023f-4a6f-c6f7-c55731f598e6"
      },
      "source": [
        "df['length'].unique()"
      ],
      "execution_count": null,
      "outputs": [
        {
          "output_type": "execute_result",
          "data": {
            "text/plain": [
              "array([168.8, 171.2, 176.6, 177.3, 192.7, 178.2, 176.8, 189. , 193.8,\n",
              "       197. , 141.1, 155.9, 158.8, 157.3, 174.6, 173.2, 144.6, 150. ,\n",
              "       163.4, 157.1, 167.5, 175.4, 169.1, 170.7, 172.6, 199.6, 191.7,\n",
              "       159.1, 166.8, 169. , 177.8, 175. , 190.9, 187.5, 202.6, 180.3,\n",
              "       208.1, 199.2, 178.4, 173. , 172.4, 165.3, 170.2, 165.6, 162.4,\n",
              "       173.4, 181.7, 184.6, 178.5, 186.7, 198.9, 167.3, 168.9, 175.7,\n",
              "       181.5, 186.6, 156.9, 157.9, 172. , 173.5, 173.6, 158.7, 169.7,\n",
              "       166.3, 168.7, 176.2, 175.6, 183.5, 187.8, 171.7, 159.3, 165.7,\n",
              "       180.2, 183.1, 188.8])"
            ]
          },
          "metadata": {},
          "execution_count": 28
        }
      ]
    },
    {
      "cell_type": "code",
      "metadata": {
        "id": "T6nDpp4MYgM3",
        "colab": {
          "base_uri": "https://localhost:8080/"
        },
        "outputId": "050aa110-a261-467a-80f3-dbe64ea8b0f6"
      },
      "source": [
        "df['width'].unique()"
      ],
      "execution_count": null,
      "outputs": [
        {
          "output_type": "execute_result",
          "data": {
            "text/plain": [
              "array([64.1, 65.5, 66.2, 66.4, 66.3, 71.4, 67.9, 64.8, 66.9, 70.9, 60.3,\n",
              "       63.6, 63.8, 64.6, 63.9, 64. , 65.2, 62.5, 66. , 61.8, 69.6, 70.6,\n",
              "       64.2, 65.7, 66.5, 66.1, 70.3, 71.7, 70.5, 72. , 68. , 64.4, 65.4,\n",
              "       68.4, 68.3, 65. , 72.3, 66.6, 63.4, 65.6, 67.7, 67.2, 68.9, 68.8])"
            ]
          },
          "metadata": {},
          "execution_count": 29
        }
      ]
    },
    {
      "cell_type": "code",
      "metadata": {
        "id": "GfN8kvokYgM3",
        "colab": {
          "base_uri": "https://localhost:8080/"
        },
        "outputId": "17ed82ea-b6f1-42cd-e68a-cf1d88b4eb79"
      },
      "source": [
        "df['height'].unique()"
      ],
      "execution_count": null,
      "outputs": [
        {
          "output_type": "execute_result",
          "data": {
            "text/plain": [
              "array([48.8, 52.4, 54.3, 53.1, 55.7, 55.9, 52. , 53.7, 56.3, 53.2, 50.8,\n",
              "       50.6, 59.8, 50.2, 52.6, 54.5, 58.3, 53.3, 54.1, 51. , 53.5, 51.4,\n",
              "       52.8, 47.8, 49.6, 55.5, 54.4, 56.5, 58.7, 54.9, 56.7, 55.4, 54.8,\n",
              "       49.4, 51.6, 54.7, 55.1, 56.1, 49.7, 56. , 50.5, 55.2, 52.5, 53. ,\n",
              "       59.1, 53.9, 55.6, 56.2, 57.5])"
            ]
          },
          "metadata": {},
          "execution_count": 30
        }
      ]
    },
    {
      "cell_type": "code",
      "metadata": {
        "id": "o2SahdwTYgM4",
        "colab": {
          "base_uri": "https://localhost:8080/"
        },
        "outputId": "e264a07c-eb05-4173-e1cf-87762878db55"
      },
      "source": [
        "df['curb-weight'].unique()"
      ],
      "execution_count": null,
      "outputs": [
        {
          "output_type": "execute_result",
          "data": {
            "text/plain": [
              "array([2548, 2823, 2337, 2824, 2507, 2844, 2954, 3086, 3053, 2395, 2710,\n",
              "       2765, 3055, 3230, 3380, 3505, 1488, 1874, 1909, 1876, 2128, 1967,\n",
              "       1989, 2535, 2811, 1713, 1819, 1837, 1940, 1956, 2010, 2024, 2236,\n",
              "       2289, 2304, 2372, 2465, 2293, 2734, 4066, 3950, 1890, 1900, 1905,\n",
              "       1945, 1950, 2380, 2385, 2500, 2410, 2425, 2670, 2700, 3515, 3750,\n",
              "       3495, 3770, 3740, 3685, 3900, 3715, 2910, 1918, 1944, 2004, 2145,\n",
              "       2370, 2328, 2833, 2921, 2926, 2365, 2405, 2403, 1889, 2017, 1938,\n",
              "       1951, 2028, 1971, 2037, 2008, 2324, 2302, 3095, 3296, 3060, 3071,\n",
              "       3139, 3020, 3197, 3430, 3075, 3252, 3285, 3485, 3130, 2191, 2818,\n",
              "       2778, 2756, 2800, 3366, 2579, 2460, 2658, 2695, 2707, 2758, 2808,\n",
              "       2847, 2050, 2120, 2240, 2190, 2340, 2510, 2290, 2455, 2420, 2650,\n",
              "       1985, 2040, 2015, 2280, 3110, 2081, 2109, 2275, 2094, 2122, 2140,\n",
              "       2169, 2204, 2265, 2300, 2540, 2536, 2551, 2679, 2714, 2975, 2326,\n",
              "       2480, 2414, 2458, 2976, 3016, 3131, 3151, 2261, 2209, 2264, 2212,\n",
              "       2319, 2254, 2221, 2661, 2563, 2912, 3034, 2935, 3042, 3045, 3157,\n",
              "       2952, 3049, 3012, 3217, 3062])"
            ]
          },
          "metadata": {},
          "execution_count": 31
        }
      ]
    },
    {
      "cell_type": "code",
      "metadata": {
        "id": "SnoDGSJFYgM5",
        "colab": {
          "base_uri": "https://localhost:8080/"
        },
        "outputId": "d25e7491-3c62-470b-89ce-bcf053fa903b"
      },
      "source": [
        "df['engine-type'].unique()"
      ],
      "execution_count": null,
      "outputs": [
        {
          "output_type": "execute_result",
          "data": {
            "text/plain": [
              "array(['dohc', 'ohcv', 'ohc', 'l', 'rotor', 'ohcf', 'dohcv'], dtype=object)"
            ]
          },
          "metadata": {},
          "execution_count": 32
        }
      ]
    },
    {
      "cell_type": "code",
      "metadata": {
        "id": "DYbZIwNiYgM5",
        "colab": {
          "base_uri": "https://localhost:8080/"
        },
        "outputId": "1ef75545-fdbb-41d7-d9b2-300a5320c611"
      },
      "source": [
        "df['engine-type'].replace({'ohcv':'ohc','dohcv':'dohc','ohcf':'ohc'}, inplace=True)\n",
        "df['engine-type'].head()"
      ],
      "execution_count": null,
      "outputs": [
        {
          "output_type": "execute_result",
          "data": {
            "text/plain": [
              "0    dohc\n",
              "1    dohc\n",
              "2     ohc\n",
              "3     ohc\n",
              "4     ohc\n",
              "Name: engine-type, dtype: object"
            ]
          },
          "metadata": {},
          "execution_count": 33
        }
      ]
    },
    {
      "cell_type": "code",
      "metadata": {
        "id": "wDSCzbYzYgM6",
        "colab": {
          "base_uri": "https://localhost:8080/"
        },
        "outputId": "00f1674b-5401-45ce-dd99-fea01ed7c230"
      },
      "source": [
        "df['engine-type'].unique()"
      ],
      "execution_count": null,
      "outputs": [
        {
          "output_type": "execute_result",
          "data": {
            "text/plain": [
              "array(['dohc', 'ohc', 'l', 'rotor'], dtype=object)"
            ]
          },
          "metadata": {},
          "execution_count": 34
        }
      ]
    },
    {
      "cell_type": "code",
      "metadata": {
        "id": "FPpYN4QzYgM6",
        "colab": {
          "base_uri": "https://localhost:8080/"
        },
        "outputId": "02f049c8-2064-429b-9647-d688aceae881"
      },
      "source": [
        "df['engine-type'].loc[df['engine-type'] == 'l']\n",
        "df = df[df['engine-type'] != 'l']\n",
        "df['engine-type'].loc[df['engine-type'] == 'l']"
      ],
      "execution_count": null,
      "outputs": [
        {
          "output_type": "execute_result",
          "data": {
            "text/plain": [
              "Series([], Name: engine-type, dtype: object)"
            ]
          },
          "metadata": {},
          "execution_count": 35
        }
      ]
    },
    {
      "cell_type": "code",
      "metadata": {
        "id": "ZYATjYf2YgM7",
        "colab": {
          "base_uri": "https://localhost:8080/"
        },
        "outputId": "cc6a80f9-899f-4252-81a0-236a4c57486a"
      },
      "source": [
        "df['num-of-cylinders'].unique()"
      ],
      "execution_count": null,
      "outputs": [
        {
          "output_type": "execute_result",
          "data": {
            "text/plain": [
              "array(['four', 'six', 'five', 'twelve', 'two', 'eight'], dtype=object)"
            ]
          },
          "metadata": {},
          "execution_count": 36
        }
      ]
    },
    {
      "cell_type": "code",
      "metadata": {
        "id": "EYvCEgqWYgM7",
        "colab": {
          "base_uri": "https://localhost:8080/"
        },
        "outputId": "8927787e-9aba-4155-a2e8-ae916ee3f711"
      },
      "source": [
        "df['fuel-system'].unique()"
      ],
      "execution_count": null,
      "outputs": [
        {
          "output_type": "execute_result",
          "data": {
            "text/plain": [
              "array(['mpfi', '2bbl', 'mfi', '1bbl', 'spfi', '4bbl', 'idi', 'spdi'],\n",
              "      dtype=object)"
            ]
          },
          "metadata": {},
          "execution_count": 37
        }
      ]
    },
    {
      "cell_type": "code",
      "metadata": {
        "id": "5IqOzEhXYgM8"
      },
      "source": [
        "df['fuel-system'].replace({'spdi':'spfi'}, inplace=True)"
      ],
      "execution_count": null,
      "outputs": []
    },
    {
      "cell_type": "code",
      "metadata": {
        "id": "PhaHelszYgM9",
        "colab": {
          "base_uri": "https://localhost:8080/"
        },
        "outputId": "c88b3f0c-ee32-4bc4-ad83-81ad985ddcab"
      },
      "source": [
        "df['fuel-system'].unique()"
      ],
      "execution_count": null,
      "outputs": [
        {
          "output_type": "execute_result",
          "data": {
            "text/plain": [
              "array(['mpfi', '2bbl', 'mfi', '1bbl', 'spfi', '4bbl', 'idi'], dtype=object)"
            ]
          },
          "metadata": {},
          "execution_count": 39
        }
      ]
    },
    {
      "cell_type": "code",
      "metadata": {
        "id": "9UBgOX9eYgM9",
        "colab": {
          "base_uri": "https://localhost:8080/"
        },
        "outputId": "0fc71bee-5bf1-4c44-bf02-43d404ab6d42"
      },
      "source": [
        "df['bore'].unique()"
      ],
      "execution_count": null,
      "outputs": [
        {
          "output_type": "execute_result",
          "data": {
            "text/plain": [
              "array(['3.47', '2.68', '3.19', '3.13', '3.50', '3.31', '3.62', '3.03',\n",
              "       '2.97', '3.34', '3.60', '2.91', '2.92', '3.15', '3.43', '3.63',\n",
              "       '3.54', '3.08', '?', '3.39', '3.76', '3.58', '3.46', '3.80',\n",
              "       '3.78', '3.17', '3.35', '3.59', '2.99', '3.33', '3.94', '3.74',\n",
              "       '2.54', '3.05', '3.27', '3.24', '3.01'], dtype=object)"
            ]
          },
          "metadata": {},
          "execution_count": 40
        }
      ]
    },
    {
      "cell_type": "code",
      "metadata": {
        "id": "VzKrv1h-YgM-",
        "colab": {
          "base_uri": "https://localhost:8080/"
        },
        "outputId": "7e3d5702-704a-4203-b8c5-c4cae6dab481"
      },
      "source": [
        "b = df['bore'] .loc[df['bore']  != '?']\n",
        "bm=pd.to_numeric(b).mean()\n",
        "bm"
      ],
      "execution_count": null,
      "outputs": [
        {
          "output_type": "execute_result",
          "data": {
            "text/plain": [
              "3.318395721925134"
            ]
          },
          "metadata": {},
          "execution_count": 41
        }
      ]
    },
    {
      "cell_type": "code",
      "metadata": {
        "id": "Sz_EWm-6YgM_"
      },
      "source": [
        "df['bore'] = df['bore'] .replace('?',bm)\n",
        "df['bore'] = pd.to_numeric(df['bore'])"
      ],
      "execution_count": null,
      "outputs": []
    },
    {
      "cell_type": "code",
      "metadata": {
        "id": "gOylcu3jYgM_",
        "colab": {
          "base_uri": "https://localhost:8080/"
        },
        "outputId": "ee9e1b36-dc6d-4880-fdfb-3e9c1418ea9a"
      },
      "source": [
        "df['stroke'].unique()"
      ],
      "execution_count": null,
      "outputs": [
        {
          "output_type": "execute_result",
          "data": {
            "text/plain": [
              "array(['2.68', '3.47', '3.40', '2.80', '3.19', '3.39', '3.11', '3.23',\n",
              "       '3.46', '3.90', '3.41', '3.07', '3.58', '4.17', '2.76', '3.15',\n",
              "       '?', '3.16', '3.64', '3.10', '3.35', '3.12', '3.86', '3.29',\n",
              "       '3.27', '2.90', '2.07', '2.36', '2.64', '3.03', '3.08', '3.50',\n",
              "       '3.54', '2.87'], dtype=object)"
            ]
          },
          "metadata": {},
          "execution_count": 43
        }
      ]
    },
    {
      "cell_type": "code",
      "metadata": {
        "id": "otgMCOL9YgNA",
        "colab": {
          "base_uri": "https://localhost:8080/"
        },
        "outputId": "efdf107c-5299-4c15-ecb0-5843bb266dee"
      },
      "source": [
        "df['horsepower'].loc[df['horsepower'] == '?'].count()\n"
      ],
      "execution_count": null,
      "outputs": [
        {
          "output_type": "execute_result",
          "data": {
            "text/plain": [
              "2"
            ]
          },
          "metadata": {},
          "execution_count": 44
        }
      ]
    },
    {
      "cell_type": "code",
      "metadata": {
        "id": "rM7TD2UiYgNA",
        "colab": {
          "base_uri": "https://localhost:8080/"
        },
        "outputId": "2c374b60-f5b4-4b88-96b6-273f4df9e6f6"
      },
      "source": [
        "df['horsepower'].str.isnumeric().value_counts()"
      ],
      "execution_count": null,
      "outputs": [
        {
          "output_type": "execute_result",
          "data": {
            "text/plain": [
              "True     189\n",
              "False      2\n",
              "Name: horsepower, dtype: int64"
            ]
          },
          "metadata": {},
          "execution_count": 45
        }
      ]
    },
    {
      "cell_type": "code",
      "metadata": {
        "id": "C_mQmlKdYgNB",
        "colab": {
          "base_uri": "https://localhost:8080/"
        },
        "outputId": "31b11807-0248-4db7-f328-90402780eff8"
      },
      "source": [
        "df['horsepower'].loc[df['horsepower'].str.isnumeric() == False]"
      ],
      "execution_count": null,
      "outputs": [
        {
          "output_type": "execute_result",
          "data": {
            "text/plain": [
              "130    ?\n",
              "131    ?\n",
              "Name: horsepower, dtype: object"
            ]
          },
          "metadata": {},
          "execution_count": 46
        }
      ]
    },
    {
      "cell_type": "code",
      "metadata": {
        "id": "3FAplvALYgNB",
        "colab": {
          "base_uri": "https://localhost:8080/"
        },
        "outputId": "a69ea291-38f2-46fc-9095-83950e1849ba"
      },
      "source": [
        "hp = df['horsepower'] .loc[df['horsepower']  != '?']\n",
        "hpm = hp.astype(str).astype(int).mean()\n",
        "df['horsepower']  = df['horsepower'] .replace('?',hpm).astype(int)\n",
        "df['horsepower'].head()"
      ],
      "execution_count": null,
      "outputs": [
        {
          "output_type": "execute_result",
          "data": {
            "text/plain": [
              "0    111\n",
              "1    111\n",
              "2    154\n",
              "3    102\n",
              "4    115\n",
              "Name: horsepower, dtype: int64"
            ]
          },
          "metadata": {},
          "execution_count": 47
        }
      ]
    },
    {
      "cell_type": "code",
      "metadata": {
        "id": "INGXnjn6YgNC",
        "colab": {
          "base_uri": "https://localhost:8080/"
        },
        "outputId": "8fa10c6a-68c9-4a8f-9bf0-6d8c84a2b0d9"
      },
      "source": [
        "df['peak-rpm'].unique()"
      ],
      "execution_count": null,
      "outputs": [
        {
          "output_type": "execute_result",
          "data": {
            "text/plain": [
              "array(['5000', '5500', '5800', '4250', '5400', '4800', '6000', '4750',\n",
              "       '4200', '4350', '4500', '5200', '5900', '5750', '?', '5250',\n",
              "       '4900', '4400', '6600', '5100', '5300'], dtype=object)"
            ]
          },
          "metadata": {},
          "execution_count": 48
        }
      ]
    },
    {
      "cell_type": "code",
      "metadata": {
        "id": "JpMMdNUuYgND",
        "colab": {
          "base_uri": "https://localhost:8080/"
        },
        "outputId": "8ac7bf15-b258-46c0-8767-73fcd58ff9bf"
      },
      "source": [
        "df['peak-rpm'].str.isnumeric().value_counts()"
      ],
      "execution_count": null,
      "outputs": [
        {
          "output_type": "execute_result",
          "data": {
            "text/plain": [
              "True     189\n",
              "False      2\n",
              "Name: peak-rpm, dtype: int64"
            ]
          },
          "metadata": {},
          "execution_count": 49
        }
      ]
    },
    {
      "cell_type": "code",
      "metadata": {
        "id": "pFui8wPoYgNF",
        "colab": {
          "base_uri": "https://localhost:8080/"
        },
        "outputId": "5def415e-e443-4f06-9f3d-0b0897de72ac"
      },
      "source": [
        "df['peak-rpm'].loc[df['peak-rpm'].str.isnumeric() == False]"
      ],
      "execution_count": null,
      "outputs": [
        {
          "output_type": "execute_result",
          "data": {
            "text/plain": [
              "130    ?\n",
              "131    ?\n",
              "Name: peak-rpm, dtype: object"
            ]
          },
          "metadata": {},
          "execution_count": 50
        }
      ]
    },
    {
      "cell_type": "code",
      "metadata": {
        "id": "_PawT3rGYgNG",
        "colab": {
          "base_uri": "https://localhost:8080/"
        },
        "outputId": "92e967a3-b49c-421b-a8ba-370a941e6ee7"
      },
      "source": [
        "pr = df['peak-rpm'] .loc[df['peak-rpm']  != '?']\n",
        "prm = pr.astype(str).astype(int).mean()\n",
        "df['peak-rpm']  = df['peak-rpm'] .replace('?',prm).astype(int)\n",
        "df['peak-rpm'].head()"
      ],
      "execution_count": null,
      "outputs": [
        {
          "output_type": "execute_result",
          "data": {
            "text/plain": [
              "0    5000\n",
              "1    5000\n",
              "2    5000\n",
              "3    5500\n",
              "4    5500\n",
              "Name: peak-rpm, dtype: int64"
            ]
          },
          "metadata": {},
          "execution_count": 51
        }
      ]
    },
    {
      "cell_type": "code",
      "metadata": {
        "id": "T3nwqRf2YgNH",
        "colab": {
          "base_uri": "https://localhost:8080/"
        },
        "outputId": "3f09ec83-4fca-4751-b9f0-41f06c87651c"
      },
      "source": [
        "df['city-mpg'].unique()"
      ],
      "execution_count": null,
      "outputs": [
        {
          "output_type": "execute_result",
          "data": {
            "text/plain": [
              "array([21, 19, 24, 18, 17, 16, 23, 20, 15, 38, 37, 31, 49, 30, 27, 25, 13,\n",
              "       26, 22, 14, 45, 32, 28, 35, 34, 29, 33])"
            ]
          },
          "metadata": {},
          "execution_count": 52
        }
      ]
    },
    {
      "cell_type": "code",
      "metadata": {
        "id": "Ol7Iq3a9YgNH",
        "colab": {
          "base_uri": "https://localhost:8080/"
        },
        "outputId": "1dfaa3a4-4c78-4d7b-a542-40e0558b08e1"
      },
      "source": [
        "df['highway-mpg'].unique()"
      ],
      "execution_count": null,
      "outputs": [
        {
          "output_type": "execute_result",
          "data": {
            "text/plain": [
              "array([27, 26, 30, 22, 25, 20, 29, 28, 43, 41, 38, 24, 54, 42, 34, 33, 31,\n",
              "       19, 17, 23, 32, 39, 18, 16, 37, 50, 36, 47, 46])"
            ]
          },
          "metadata": {},
          "execution_count": 53
        }
      ]
    },
    {
      "cell_type": "code",
      "metadata": {
        "id": "-d_B5y2vYgNI",
        "colab": {
          "base_uri": "https://localhost:8080/"
        },
        "outputId": "750c7e7d-725a-4809-dc73-aa54c702b4e0"
      },
      "source": [
        "df['price'].loc[df['price'] == '?'].count()"
      ],
      "execution_count": null,
      "outputs": [
        {
          "output_type": "execute_result",
          "data": {
            "text/plain": [
              "4"
            ]
          },
          "metadata": {},
          "execution_count": 54
        }
      ]
    },
    {
      "cell_type": "code",
      "metadata": {
        "id": "gsq1OgQTYgNJ",
        "colab": {
          "base_uri": "https://localhost:8080/"
        },
        "outputId": "26b50cf1-5a90-423b-c071-18d5b40a9849"
      },
      "source": [
        "df['price'].str.isnumeric().value_counts()"
      ],
      "execution_count": null,
      "outputs": [
        {
          "output_type": "execute_result",
          "data": {
            "text/plain": [
              "True     187\n",
              "False      4\n",
              "Name: price, dtype: int64"
            ]
          },
          "metadata": {},
          "execution_count": 55
        }
      ]
    },
    {
      "cell_type": "code",
      "metadata": {
        "id": "NtgDJ7ElYgNJ",
        "colab": {
          "base_uri": "https://localhost:8080/"
        },
        "outputId": "25a8512e-31f1-441c-b5a9-57e753f4ddf6"
      },
      "source": [
        "df['price'].loc[df['price'].str.isnumeric() == False]"
      ],
      "execution_count": null,
      "outputs": [
        {
          "output_type": "execute_result",
          "data": {
            "text/plain": [
              "9      ?\n",
              "44     ?\n",
              "45     ?\n",
              "129    ?\n",
              "Name: price, dtype: object"
            ]
          },
          "metadata": {},
          "execution_count": 56
        }
      ]
    },
    {
      "cell_type": "code",
      "metadata": {
        "id": "HPNvIH87YgNK",
        "colab": {
          "base_uri": "https://localhost:8080/"
        },
        "outputId": "53913365-3d9a-4a2e-d8e4-5b0162eba99b"
      },
      "source": [
        "p = df['price'] .loc[df['price']  != '?']\n",
        "pm = p.astype(str).astype(int).mean()\n",
        "df['price']  = df['price'] .replace('?',pm).astype(int)\n",
        "df['price'] .head()"
      ],
      "execution_count": null,
      "outputs": [
        {
          "output_type": "execute_result",
          "data": {
            "text/plain": [
              "0    13495\n",
              "1    16500\n",
              "2    16500\n",
              "3    13950\n",
              "4    17450\n",
              "Name: price, dtype: int64"
            ]
          },
          "metadata": {},
          "execution_count": 57
        }
      ]
    },
    {
      "cell_type": "code",
      "metadata": {
        "id": "JQLS53muYgNK"
      },
      "source": [
        "df.to_csv('automobile_cleaned.csv', index=False)"
      ],
      "execution_count": null,
      "outputs": []
    }
  ]
}